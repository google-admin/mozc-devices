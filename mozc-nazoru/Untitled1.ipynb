{
 "cells": [
  {
   "cell_type": "code",
   "execution_count": 2,
   "metadata": {},
   "outputs": [
    {
     "name": "stderr",
     "output_type": "stream",
     "text": [
      "/Users/tushuhei/py3env/lib/python3.6/site-packages/ipykernel_launcher.py:29: DeprecationWarning: The binary mode of fromstring is deprecated, as it behaves surprisingly on unicode inputs. Use frombuffer instead\n"
     ]
    },
    {
     "name": "stdout",
     "output_type": "stream",
     "text": [
      "は\n",
      "き\n",
      "9\n",
      "ろ\n",
      "た\n"
     ]
    },
    {
     "data": {
      "image/png": "[encoded data removed]",
      "text/plain": [
       "<matplotlib.figure.Figure at 0x11b78dac8>"
      ]
     },
     "metadata": {},
     "output_type": "display_data"
    }
   ],
   "source": [
    "%matplotlib inline\n",
    "from matplotlib import pylab as plt\n",
    "import tensorflow as tf\n",
    "import numpy as np\n",
    "\n",
    "kanas = (u'あいうえおかきくけこさしすせそたちつてとなにぬねのはひふへほ'\n",
    "         u'まみむめもやゆよらりるれろわゐんゑを'\n",
    "         u'abcdefghijklmnopqrstuvwxyz1234567890'\n",
    "         u'♡ーずぐ')\n",
    "\n",
    "record_iterator = tf.python_io.tf_record_iterator(\n",
    "    path='/tmp/strokes_train.tfrecord')\n",
    "for i, row in enumerate(list(record_iterator)[:5]):\n",
    "    example = tf.train.Example()\n",
    "    example.ParseFromString(row)\n",
    "    img_string = (example.features.feature['image/encoded']\n",
    "                                  .bytes_list\n",
    "                                  .value[0])\n",
    "    width = (example.features.feature['image/width']\n",
    "                                  .int64_list\n",
    "                                  .value[0])\n",
    "    height = (example.features.feature['image/height']\n",
    "                                  .int64_list\n",
    "                                  .value[0])\n",
    "    label = (example.features.feature['image/class/label']\n",
    "                                  .int64_list\n",
    "                                  .value[0])\n",
    "\n",
    "    img_1d = np.fromstring(img_string, dtype=np.uint8)\n",
    "    reconstructed_img = img_1d.reshape([16, 16, 10])\n",
    "    print(kanas[label])\n",
    "    plt.subplot(1,5,i+1)\n",
    "    plt.imshow(np.mean(reconstructed_img, axis=-1))"
   ]
  },
  {
   "cell_type": "code",
   "execution_count": 14,
   "metadata": {},
   "outputs": [
    {
     "name": "stderr",
     "output_type": "stream",
     "text": [
      "/Users/tushuhei/py3env/lib/python3.6/site-packages/ipykernel_launcher.py:20: DeprecationWarning: The binary mode of fromstring is deprecated, as it behaves surprisingly on unicode inputs. Use frombuffer instead\n"
     ]
    },
    {
     "name": "stdout",
     "output_type": "stream",
     "text": [
      "ー\n",
      "ー\n",
      "ー\n",
      "ー\n",
      "ー\n"
     ]
    },
    {
     "data": {
      "image/png": "[encoded data removed]",
      "text/plain": [
       "<matplotlib.figure.Figure at 0x10a87b898>"
      ]
     },
     "metadata": {},
     "output_type": "display_data"
    }
   ],
   "source": [
    "record_iterator = tf.python_io.tf_record_iterator(path='/tmp/strokes_train.tfrecord')\n",
    "cnt = 0\n",
    "for i, row in enumerate(record_iterator):\n",
    "    if cnt > 4: break\n",
    "    example = tf.train.Example()\n",
    "    example.ParseFromString(row)\n",
    "    img_string = (example.features.feature['image/encoded']\n",
    "                                  .bytes_list\n",
    "                                  .value[0])\n",
    "    width = (example.features.feature['image/width']\n",
    "                                  .int64_list\n",
    "                                  .value[0])\n",
    "    height = (example.features.feature['image/height']\n",
    "                                  .int64_list\n",
    "                                  .value[0])\n",
    "    label = (example.features.feature['image/class/label']\n",
    "                                  .int64_list\n",
    "                                  .value[0])\n",
    "    if not kanas[label] == u'ー': continue\n",
    "    img_1d = np.fromstring(img_string, dtype=np.uint8)\n",
    "    reconstructed_img = img_1d.reshape([16, 16, 10])\n",
    "    print(kanas[label])\n",
    "    plt.subplot(1,5,cnt+1)\n",
    "    plt.imshow(np.mean(reconstructed_img, axis=-1))\n",
    "    cnt += 1"
   ]
  },
  {
   "cell_type": "code",
   "execution_count": 21,
   "metadata": {},
   "outputs": [
    {
     "ename": "NameError",
     "evalue": "name 'nazoru' is not defined",
     "output_type": "error",
     "traceback": [
      "\u001b[0;31m---------------------------------------------------------------------------\u001b[0m",
      "\u001b[0;31mNameError\u001b[0m                                 Traceback (most recent call last)",
      "\u001b[0;32m<ipython-input-21-0dbc0a28b954>\u001b[0m in \u001b[0;36m<module>\u001b[0;34m()\u001b[0m\n\u001b[1;32m     26\u001b[0m \u001b[0;34m\u001b[0m\u001b[0m\n\u001b[1;32m     27\u001b[0m \u001b[0mdata\u001b[0m\u001b[0;34m,\u001b[0m \u001b[0mlabels\u001b[0m \u001b[0;34m=\u001b[0m \u001b[0mload_data\u001b[0m\u001b[0;34m(\u001b[0m\u001b[0;34mu'ー'\u001b[0m\u001b[0;34m)\u001b[0m\u001b[0;34m\u001b[0m\u001b[0m\n\u001b[0;32m---> 28\u001b[0;31m x = nazoru.list_keydowns2images(\n\u001b[0m\u001b[1;32m     29\u001b[0m       data, direction_feature=True, gradual_feature=True, scale=16, stroke_width=2) / 255.\n",
      "\u001b[0;31mNameError\u001b[0m: name 'nazoru' is not defined"
     ]
    }
   ],
   "source": [
    "import os, json\n",
    "impotr \n",
    "def load_data(kanas):\n",
    "\n",
    "  def get_ndjson_path(zip_path):\n",
    "    dir_path, filename = os.path.split(zip_path)\n",
    "    body, ext = os.path.splitext(filename)\n",
    "    return dir_path, os.path.join(dir_path, '%s.ndjson' % (body))\n",
    "\n",
    "  data = []\n",
    "  labels = []\n",
    "  dir_path, ndjson_path = get_ndjson_path('data/strokes.zip')\n",
    "  if not os.path.exists(ndjson_path):\n",
    "    with zipfile.ZipFile('data/strokes.zip', 'r') as f:\n",
    "      f.extractall(dir_path)\n",
    "  with open(ndjson_path) as f:\n",
    "    for line in f.readlines():\n",
    "      line = json.loads(line)\n",
    "      if not line['kana'].lower() in kanas: continue\n",
    "      keydowns = [(e[0], e[2]) for e in line['events'] if e[1] == 'down']\n",
    "      # TODO (tushuhei) Relax this condition to accept shorter strokes.\n",
    "      if len(keydowns) < 5: continue  # Ignore if too short.\n",
    "      data.append(keydowns)\n",
    "      labels.append(kanas.index(line['kana'].lower()))\n",
    "  labels = np.eye(len(kanas))[labels]  # Idiom to one-hot encode.\n",
    "  return data, labels\n",
    "\n",
    "data, labels = load_data(u'ー')\n",
    "x = nazoru.list_keydowns2images(\n",
    "      data, direction_feature=True, gradual_feature=True, scale=16, stroke_width=2) / 255."
   ]
  }
 ],
 "metadata": {
  "kernelspec": {
   "display_name": "Python 3",
   "language": "python",
   "name": "python3"
  },
  "language_info": {
   "codemirror_mode": {
    "name": "ipython",
    "version": 3
   },
   "file_extension": ".py",
   "mimetype": "text/x-python",
   "name": "python",
   "nbconvert_exporter": "python",
   "pygments_lexer": "ipython3",
   "version": "3.6.4"
  }
 },
 "nbformat": 4,
 "nbformat_minor": 2
}
